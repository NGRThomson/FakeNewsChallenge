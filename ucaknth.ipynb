{
 "cells": [
  {
   "cell_type": "markdown",
   "metadata": {
    "ExecuteTime": {
     "end_time": "2018-04-11T11:35:31.204277Z",
     "start_time": "2018-04-11T11:35:30.040144Z"
    },
    "colab": {
     "autoexec": {
      "startup": false,
      "wait_interval": 0
     },
     "base_uri": "https://localhost:8080/",
     "height": 734
    },
    "colab_type": "code",
    "executionInfo": {
     "elapsed": 15283,
     "status": "ok",
     "timestamp": 1523142291902,
     "user": {
      "displayName": "Zobair Hasan",
      "photoUrl": "https://lh3.googleusercontent.com/a/default-user=s128",
      "userId": "108008922818994723796"
     },
     "user_tz": -60
    },
    "id": "dDlMHmHj0g0C",
    "outputId": "a682a22d-fa4f-4fdd-c5a7-17a799b66f78"
   },
   "source": [
    "# Fake News Challenge - Stance Detection\n",
    "\n",
    "First Steps, here we:\n",
    "\n",
    "* Install any important libaries\n",
    "* Build stop word list\n",
    "* import all used libaries including 'functions' which contains handmade functions and classes\n",
    "* Read the data CSVs\n",
    "* Split the data into a 90/10 split\n",
    "* Tokenize and filter out the stop words"
   ]
  },
  {
   "cell_type": "code",
   "execution_count": 1,
   "metadata": {
    "ExecuteTime": {
     "end_time": "2018-04-11T16:57:39.726787Z",
     "start_time": "2018-04-11T16:57:39.724664Z"
    }
   },
   "outputs": [],
   "source": [
    "#!pip install keras\n",
    "#!pip install sklearn\n",
    "#!pip install nltk\n",
    "#!pip install seaborn\n",
    "#!pip install lightgbm"
   ]
  },
  {
   "cell_type": "code",
   "execution_count": 2,
   "metadata": {
    "ExecuteTime": {
     "end_time": "2018-04-11T16:57:39.762223Z",
     "start_time": "2018-04-11T16:57:39.733788Z"
    }
   },
   "outputs": [],
   "source": [
    "stop_words = [\n",
    "        \"a\", \"about\", \"above\", \"across\", \"after\", \"afterwards\", \"again\", \"against\", \"all\", \"almost\", \"alone\", \"along\",\n",
    "        \"already\", \"also\", \"although\", \"always\", \"am\", \"among\", \"amongst\", \"amoungst\", \"amount\", \"an\", \"and\", \"another\",\n",
    "        \"any\", \"anyhow\", \"anyone\", \"anything\", \"anyway\", \"anywhere\", \"are\", \"around\", \"as\", \"at\", \"back\", \"be\",\n",
    "        \"became\", \"because\", \"become\", \"becomes\", \"becoming\", \"been\", \"before\", \"beforehand\", \"behind\", \"being\",\n",
    "        \"below\", \"beside\", \"besides\", \"between\", \"beyond\", \"bill\", \"both\", \"bottom\", \"but\", \"by\", \"call\", \"can\", \"co\",\n",
    "        \"con\", \"could\", \"cry\", \"de\", \"describe\", \"detail\", \"do\", \"done\", \"down\", \"due\", \"during\", \"each\", \"eg\", \"eight\",\n",
    "        \"either\", \"eleven\", \"else\", \"elsewhere\", \"empty\", \"enough\", \"etc\", \"even\", \"ever\", \"every\", \"everyone\",\n",
    "        \"everything\", \"everywhere\", \"except\", \"few\", \"fifteen\", \"fifty\", \"fill\", \"find\", \"fire\", \"first\", \"five\", \"for\",\n",
    "        \"former\", \"formerly\", \"forty\", \"found\", \"four\", \"from\", \"front\", \"full\", \"further\", \"get\", \"give\", \"go\", \"had\",\n",
    "        \"has\", \"have\", \"he\", \"hence\", \"her\", \"here\", \"hereafter\", \"hereby\", \"herein\", \"hereupon\", \"hers\", \"herself\",\n",
    "        \"him\", \"himself\", \"his\", \"how\", \"however\", \"hundred\", \"i\", \"ie\", \"if\", \"in\", \"inc\", \"indeed\", \"interest\",\n",
    "        \"into\", \"is\", \"it\", \"its\", \"itself\", \"keep\", \"last\", \"latter\", \"latterly\", \"least\", \"less\", \"ltd\", \"made\",\n",
    "        \"many\", \"may\", \"me\", \"meanwhile\", \"might\", \"mill\", \"mine\", \"more\", \"moreover\", \"most\", \"mostly\", \"move\", \"much\",\n",
    "        \"must\", \"my\", \"myself\", \"name\", \"namely\", \"neither\", \"nevertheless\", \"next\", \"nine\", \"nobody\", \"now\", \"nowhere\",\n",
    "        \"of\", \"off\", \"often\", \"on\", \"once\", \"one\", \"only\", \"onto\", \"or\", \"other\", \"others\", \"otherwise\", \"our\", \"ours\",\n",
    "        \"ourselves\", \"out\", \"over\", \"own\", \"part\", \"per\", \"perhaps\", \"please\", \"put\", \"rather\", \"re\", \"same\", \"see\",\n",
    "        \"serious\", \"several\", \"she\", \"should\", \"show\", \"side\", \"since\", \"sincere\", \"six\", \"sixty\", \"so\", \"some\",\n",
    "        \"somehow\", \"someone\", \"something\", \"sometime\", \"sometimes\", \"somewhere\", \"still\", \"such\", \"system\", \"take\",\n",
    "        \"ten\", \"than\", \"that\", \"the\", \"their\", \"them\", \"themselves\", \"then\", \"thence\", \"there\", \"thereafter\", \"thereby\",\n",
    "        \"therefore\", \"therein\", \"thereupon\", \"these\", \"they\", \"thick\", \"thin\", \"third\", \"this\", \"those\", \"though\",\n",
    "        \"three\", \"through\", \"throughout\", \"thru\", \"thus\", \"to\", \"together\", \"too\", \"top\", \"toward\", \"towards\", \"twelve\",\n",
    "        \"twenty\", \"two\", \"un\", \"under\", \"until\", \"up\", \"upon\", \"us\", \"very\", \"via\", \"was\", \"we\", \"well\", \"were\", \"what\",\n",
    "        \"whatever\", \"when\", \"whence\", \"whenever\", \"where\", \"whereafter\", \"whereas\", \"whereby\", \"wherein\", \"whereupon\",\n",
    "        \"wherever\", \"whether\", \"which\", \"while\", \"whither\", \"who\", \"whoever\", \"whole\", \"whom\", \"whose\", \"why\", \"will\",\n",
    "        \"with\", \"within\", \"without\", \"would\", \"yet\", \"you\", \"your\", \"yours\", \"yourself\", \"yourselves\"\n",
    "        ]"
   ]
  },
  {
   "cell_type": "code",
   "execution_count": 4,
   "metadata": {
    "ExecuteTime": {
     "end_time": "2018-04-11T16:58:43.106731Z",
     "start_time": "2018-04-11T16:58:41.736630Z"
    },
    "colab": {
     "autoexec": {
      "startup": false,
      "wait_interval": 0
     },
     "base_uri": "https://localhost:8080/",
     "height": 85
    },
    "colab_type": "code",
    "executionInfo": {
     "elapsed": 2345,
     "status": "ok",
     "timestamp": 1523142350257,
     "user": {
      "displayName": "Zobair Hasan",
      "photoUrl": "https://lh3.googleusercontent.com/a/default-user=s128",
      "userId": "108008922818994723796"
     },
     "user_tz": -60
    },
    "id": "wSdDRG3qpmyD",
    "outputId": "233f883e-b3d7-45fd-83f1-b0d66e0f072e"
   },
   "outputs": [
    {
     "name": "stderr",
     "output_type": "stream",
     "text": [
      "Using TensorFlow backend.\n"
     ]
    }
   ],
   "source": [
    "import os\n",
    "from functions import *\n",
    "import numpy as np\n",
    "import sklearn\n",
    "import pandas as pd\n",
    "import csv\n",
    "from collections import defaultdict\n",
    "from scipy import sparse\n",
    "import matplotlib.pyplot as plt\n",
    "import seaborn as sns\n",
    "import keras\n",
    "import lightgbm\n",
    "import random\n",
    "import keras\n",
    "from keras.models import Sequential\n",
    "from keras.layers import Dense, Activation, Dropout\n",
    "from keras.optimizers import Adam"
   ]
  },
  {
   "cell_type": "code",
   "execution_count": 5,
   "metadata": {
    "ExecuteTime": {
     "end_time": "2018-04-11T16:58:44.063417Z",
     "start_time": "2018-04-11T16:58:43.649031Z"
    }
   },
   "outputs": [
    {
     "name": "stdout",
     "output_type": "stream",
     "text": [
      "Class Values in Validation set:                  0.11116178661558576\n",
      "Class Values in Validation set:                  0.11432145090681677\n",
      "Class Values in Validation set:                  0.10053859964093358\n",
      "Class Values in Validation set:                  0.12299465240641712\n",
      "Total proportion of instances in Validation set: 0.1111111111111111\n"
     ]
    }
   ],
   "source": [
    "train, valid = Data('train_bodies.csv', 'train_stances.csv', 0.1).split_data()\n",
    "\n",
    "validation = pd.DataFrame(valid, columns= [\"headline\", \"body\", \"stance\"])\n",
    "training = pd.DataFrame(train, columns= [\"headline\", \"body\", \"stance\"])\n",
    "\n",
    "for i,j in zip(validation[\"stance\"].value_counts(), training[\"stance\"].value_counts()):\n",
    "    print(\"Class Values in Validation set:                 \", i/j)\n",
    "\n",
    "print(\"Total proportion of instances in Validation set:\", 1/9)"
   ]
  },
  {
   "cell_type": "code",
   "execution_count": 6,
   "metadata": {
    "ExecuteTime": {
     "end_time": "2018-04-11T16:59:44.476475Z",
     "start_time": "2018-04-11T16:58:45.774195Z"
    }
   },
   "outputs": [],
   "source": [
    "stop_words = stop_words\n",
    "\n",
    "training[\"body\"] = [training[\"body\"][i].split() for i in range(len(training))]\n",
    "training[\"headline\"] = [training[\"headline\"][i].split() for i in range(len(training))]\n",
    "training[\"body\"] = training[\"body\"].apply(lambda x: [item for item in x if item not in stop_words])\n",
    "training[\"headline\"] = training[\"headline\"].apply(lambda x: [item for item in x if item not in stop_words])\n",
    "\n",
    "validation[\"body\"] = [validation[\"body\"][i].split() for i in range(len(validation))]\n",
    "validation[\"headline\"] = [validation[\"headline\"][i].split() for i in range(len(validation))]\n",
    "validation[\"body\"] = validation[\"body\"].apply(lambda x: [item for item in x if item not in stop_words])\n",
    "validation[\"headline\"] = validation[\"headline\"].apply(lambda x: [item for item in x if item not in stop_words])"
   ]
  },
  {
   "cell_type": "code",
   "execution_count": 7,
   "metadata": {
    "ExecuteTime": {
     "end_time": "2018-04-11T16:59:46.257136Z",
     "start_time": "2018-04-11T16:59:46.245018Z"
    },
    "colab": {
     "autoexec": {
      "startup": false,
      "wait_interval": 0
     },
     "base_uri": "https://localhost:8080/",
     "height": 255
    },
    "colab_type": "code",
    "executionInfo": {
     "elapsed": 454,
     "status": "ok",
     "timestamp": 1523142371003,
     "user": {
      "displayName": "Zobair Hasan",
      "photoUrl": "https://lh3.googleusercontent.com/a/default-user=s128",
      "userId": "108008922818994723796"
     },
     "user_tz": -60
    },
    "id": "tV8tcn2B3QYP",
    "outputId": "6c40d400-b98a-46af-e43a-2a5a22cf2d98"
   },
   "outputs": [
    {
     "data": {
      "text/html": [
       "<div>\n",
       "<style scoped>\n",
       "    .dataframe tbody tr th:only-of-type {\n",
       "        vertical-align: middle;\n",
       "    }\n",
       "\n",
       "    .dataframe tbody tr th {\n",
       "        vertical-align: top;\n",
       "    }\n",
       "\n",
       "    .dataframe thead th {\n",
       "        text-align: right;\n",
       "    }\n",
       "</style>\n",
       "<table border=\"1\" class=\"dataframe\">\n",
       "  <thead>\n",
       "    <tr style=\"text-align: right;\">\n",
       "      <th></th>\n",
       "      <th>headline</th>\n",
       "      <th>body</th>\n",
       "      <th>stance</th>\n",
       "    </tr>\n",
       "  </thead>\n",
       "  <tbody>\n",
       "    <tr>\n",
       "      <th>0</th>\n",
       "      <td>[Islamist, terrorists, Jabhat, Ansar, al-Deen,...</td>\n",
       "      <td>[The, Force, little, sooner, expected, latest,...</td>\n",
       "      <td>unrelated</td>\n",
       "    </tr>\n",
       "    <tr>\n",
       "      <th>1</th>\n",
       "      <td>[Boko, Haram, denies, cease-fire,, leader, say...</td>\n",
       "      <td>[A, trip, Bali, turned, Dylan, Thomas, real-li...</td>\n",
       "      <td>unrelated</td>\n",
       "    </tr>\n",
       "    <tr>\n",
       "      <th>2</th>\n",
       "      <td>[YPG, Confirms:, Gill, Rosenberg, Not, Capture...</td>\n",
       "      <td>[An, alleged, attempted, rapist, India, receiv...</td>\n",
       "      <td>unrelated</td>\n",
       "    </tr>\n",
       "    <tr>\n",
       "      <th>3</th>\n",
       "      <td>[Second, person, rushed, hospital, Ebola, symp...</td>\n",
       "      <td>[A, 31-year-old, Canadian-Israeli, woman, trav...</td>\n",
       "      <td>unrelated</td>\n",
       "    </tr>\n",
       "    <tr>\n",
       "      <th>4</th>\n",
       "      <td>[Watch:, ISIS, Claims, Have, Captured, U.S., A...</td>\n",
       "      <td>[Poverty-stricken, parents, took, streets, auc...</td>\n",
       "      <td>unrelated</td>\n",
       "    </tr>\n",
       "  </tbody>\n",
       "</table>\n",
       "</div>"
      ],
      "text/plain": [
       "                                            headline  \\\n",
       "0  [Islamist, terrorists, Jabhat, Ansar, al-Deen,...   \n",
       "1  [Boko, Haram, denies, cease-fire,, leader, say...   \n",
       "2  [YPG, Confirms:, Gill, Rosenberg, Not, Capture...   \n",
       "3  [Second, person, rushed, hospital, Ebola, symp...   \n",
       "4  [Watch:, ISIS, Claims, Have, Captured, U.S., A...   \n",
       "\n",
       "                                                body     stance  \n",
       "0  [The, Force, little, sooner, expected, latest,...  unrelated  \n",
       "1  [A, trip, Bali, turned, Dylan, Thomas, real-li...  unrelated  \n",
       "2  [An, alleged, attempted, rapist, India, receiv...  unrelated  \n",
       "3  [A, 31-year-old, Canadian-Israeli, woman, trav...  unrelated  \n",
       "4  [Poverty-stricken, parents, took, streets, auc...  unrelated  "
      ]
     },
     "execution_count": 7,
     "metadata": {},
     "output_type": "execute_result"
    }
   ],
   "source": [
    "training.head()"
   ]
  },
  {
   "cell_type": "markdown",
   "metadata": {},
   "source": [
    "# TF-IDF and Ngrams\n",
    "\n",
    "Here we start to introduce features, but first we must use TF-IDF in order to vectorize our headline/body pairs, then we can use these vectors to take distances and build further features. Furthermore, the vocab has been build using the entire dataset, this helps with any incosistencies when using the full TF-IDF data in the deep learning model."
   ]
  },
  {
   "cell_type": "code",
   "execution_count": 8,
   "metadata": {
    "ExecuteTime": {
     "end_time": "2018-04-11T16:59:51.140129Z",
     "start_time": "2018-04-11T16:59:48.024931Z"
    },
    "colab": {
     "autoexec": {
      "startup": false,
      "wait_interval": 0
     }
    },
    "colab_type": "code",
    "id": "Pve1S8uOQRqd",
    "scrolled": true
   },
   "outputs": [],
   "source": [
    "def build_vocab(a, b):\n",
    "    corpus = a+b\n",
    "    freq = defaultdict(float)\n",
    "    for doc in corpus:\n",
    "        unique = set(doc)\n",
    "        for unique_word in unique:\n",
    "            freq[unique_word] +=1.0\n",
    "\n",
    "    filtered_words = {k:v for (k,v) in freq.items() if (v/len(corpus)) > 0.01 and (v/len(corpus))<0.75} \n",
    "    vocab = set(filtered_words)\n",
    "    return vocab\n",
    "\n",
    "training_vocab = build_vocab(training['headline'], training['body'])\n",
    "valid_vocab = build_vocab(validation['headline'], validation['body'])\n",
    "vocab = training_vocab.union(valid_vocab)"
   ]
  },
  {
   "cell_type": "code",
   "execution_count": 9,
   "metadata": {
    "ExecuteTime": {
     "end_time": "2018-04-11T16:59:52.907646Z",
     "start_time": "2018-04-11T16:59:52.905115Z"
    },
    "colab": {
     "autoexec": {
      "startup": false,
      "wait_interval": 0
     },
     "base_uri": "https://localhost:8080/",
     "height": 51
    },
    "colab_type": "code",
    "executionInfo": {
     "elapsed": 494,
     "status": "ok",
     "timestamp": 1523142382406,
     "user": {
      "displayName": "Zobair Hasan",
      "photoUrl": "https://lh3.googleusercontent.com/a/default-user=s128",
      "userId": "108008922818994723796"
     },
     "user_tz": -60
    },
    "id": "2PxMtWQbtL7-",
    "outputId": "62392a9c-4294-417b-e171-ae487d55f54a"
   },
   "outputs": [
    {
     "name": "stdout",
     "output_type": "stream",
     "text": [
      "Words in Vocab: 3529\n"
     ]
    }
   ],
   "source": [
    "print(\"Words in Vocab:\", len(vocab))"
   ]
  },
  {
   "cell_type": "code",
   "execution_count": 10,
   "metadata": {
    "ExecuteTime": {
     "end_time": "2018-04-11T17:00:34.353331Z",
     "start_time": "2018-04-11T16:59:54.671685Z"
    },
    "colab": {
     "autoexec": {
      "startup": false,
      "wait_interval": 0
     }
    },
    "colab_type": "code",
    "id": "DQyg3VfUVVxt"
   },
   "outputs": [],
   "source": [
    "training['tfidf_headline'] = TFIDF(training['headline'] , vocab).compute_tf_idf()\n",
    "training['tfidf_body'] = TFIDF(training['body'] , vocab).compute_tf_idf()"
   ]
  },
  {
   "cell_type": "code",
   "execution_count": 11,
   "metadata": {
    "ExecuteTime": {
     "end_time": "2018-04-11T17:00:36.224244Z",
     "start_time": "2018-04-11T17:00:36.200732Z"
    }
   },
   "outputs": [
    {
     "data": {
      "text/html": [
       "<div>\n",
       "<style scoped>\n",
       "    .dataframe tbody tr th:only-of-type {\n",
       "        vertical-align: middle;\n",
       "    }\n",
       "\n",
       "    .dataframe tbody tr th {\n",
       "        vertical-align: top;\n",
       "    }\n",
       "\n",
       "    .dataframe thead th {\n",
       "        text-align: right;\n",
       "    }\n",
       "</style>\n",
       "<table border=\"1\" class=\"dataframe\">\n",
       "  <thead>\n",
       "    <tr style=\"text-align: right;\">\n",
       "      <th></th>\n",
       "      <th>headline</th>\n",
       "      <th>body</th>\n",
       "      <th>stance</th>\n",
       "      <th>tfidf_headline</th>\n",
       "      <th>tfidf_body</th>\n",
       "    </tr>\n",
       "  </thead>\n",
       "  <tbody>\n",
       "    <tr>\n",
       "      <th>0</th>\n",
       "      <td>[Islamist, terrorists, Jabhat, Ansar, al-Deen,...</td>\n",
       "      <td>[The, Force, little, sooner, expected, latest,...</td>\n",
       "      <td>unrelated</td>\n",
       "      <td>[[0.0, 0.0, 0.0, 0.0, 0.0, 0.0, 0.0, 0.0, 0.0,...</td>\n",
       "      <td>[[0.0, 0.0, 0.0198030628459, 0.0, 0.0, 0.0, 0....</td>\n",
       "    </tr>\n",
       "    <tr>\n",
       "      <th>1</th>\n",
       "      <td>[Boko, Haram, denies, cease-fire,, leader, say...</td>\n",
       "      <td>[A, trip, Bali, turned, Dylan, Thomas, real-li...</td>\n",
       "      <td>unrelated</td>\n",
       "      <td>[[0.0, 0.0, 0.0, 0.0, 0.0, 0.0, 0.0, 0.0, 0.0,...</td>\n",
       "      <td>[[0.0, 0.0, 0.0, 0.0, 0.0, 0.0, 0.0, 0.0, 0.0,...</td>\n",
       "    </tr>\n",
       "    <tr>\n",
       "      <th>2</th>\n",
       "      <td>[YPG, Confirms:, Gill, Rosenberg, Not, Capture...</td>\n",
       "      <td>[An, alleged, attempted, rapist, India, receiv...</td>\n",
       "      <td>unrelated</td>\n",
       "      <td>[[0.0, 0.0, 0.0, 0.0, 0.0, 0.0, 0.0, 0.0, 0.0,...</td>\n",
       "      <td>[[0.0, 0.0, 0.0, 0.0, 0.0, 0.0, 0.0, 0.0, 0.0,...</td>\n",
       "    </tr>\n",
       "    <tr>\n",
       "      <th>3</th>\n",
       "      <td>[Second, person, rushed, hospital, Ebola, symp...</td>\n",
       "      <td>[A, 31-year-old, Canadian-Israeli, woman, trav...</td>\n",
       "      <td>unrelated</td>\n",
       "      <td>[[0.0, 0.0, 0.0, 0.0, 0.0, 0.0, 0.0, 0.0, 0.0,...</td>\n",
       "      <td>[[0.0, 0.0, 0.0, 0.0, 0.0, 0.0, 0.0, 0.0190552...</td>\n",
       "    </tr>\n",
       "    <tr>\n",
       "      <th>4</th>\n",
       "      <td>[Watch:, ISIS, Claims, Have, Captured, U.S., A...</td>\n",
       "      <td>[Poverty-stricken, parents, took, streets, auc...</td>\n",
       "      <td>unrelated</td>\n",
       "      <td>[[0.0, 0.0, 0.0, 0.0, 0.0, 0.0, 0.0, 0.0, 0.0,...</td>\n",
       "      <td>[[0.0, 0.0, 0.0, 0.0, 0.0, 0.0, 0.0, 0.0, 0.0,...</td>\n",
       "    </tr>\n",
       "  </tbody>\n",
       "</table>\n",
       "</div>"
      ],
      "text/plain": [
       "                                            headline  \\\n",
       "0  [Islamist, terrorists, Jabhat, Ansar, al-Deen,...   \n",
       "1  [Boko, Haram, denies, cease-fire,, leader, say...   \n",
       "2  [YPG, Confirms:, Gill, Rosenberg, Not, Capture...   \n",
       "3  [Second, person, rushed, hospital, Ebola, symp...   \n",
       "4  [Watch:, ISIS, Claims, Have, Captured, U.S., A...   \n",
       "\n",
       "                                                body     stance  \\\n",
       "0  [The, Force, little, sooner, expected, latest,...  unrelated   \n",
       "1  [A, trip, Bali, turned, Dylan, Thomas, real-li...  unrelated   \n",
       "2  [An, alleged, attempted, rapist, India, receiv...  unrelated   \n",
       "3  [A, 31-year-old, Canadian-Israeli, woman, trav...  unrelated   \n",
       "4  [Poverty-stricken, parents, took, streets, auc...  unrelated   \n",
       "\n",
       "                                      tfidf_headline  \\\n",
       "0  [[0.0, 0.0, 0.0, 0.0, 0.0, 0.0, 0.0, 0.0, 0.0,...   \n",
       "1  [[0.0, 0.0, 0.0, 0.0, 0.0, 0.0, 0.0, 0.0, 0.0,...   \n",
       "2  [[0.0, 0.0, 0.0, 0.0, 0.0, 0.0, 0.0, 0.0, 0.0,...   \n",
       "3  [[0.0, 0.0, 0.0, 0.0, 0.0, 0.0, 0.0, 0.0, 0.0,...   \n",
       "4  [[0.0, 0.0, 0.0, 0.0, 0.0, 0.0, 0.0, 0.0, 0.0,...   \n",
       "\n",
       "                                          tfidf_body  \n",
       "0  [[0.0, 0.0, 0.0198030628459, 0.0, 0.0, 0.0, 0....  \n",
       "1  [[0.0, 0.0, 0.0, 0.0, 0.0, 0.0, 0.0, 0.0, 0.0,...  \n",
       "2  [[0.0, 0.0, 0.0, 0.0, 0.0, 0.0, 0.0, 0.0, 0.0,...  \n",
       "3  [[0.0, 0.0, 0.0, 0.0, 0.0, 0.0, 0.0, 0.0190552...  \n",
       "4  [[0.0, 0.0, 0.0, 0.0, 0.0, 0.0, 0.0, 0.0, 0.0,...  "
      ]
     },
     "execution_count": 11,
     "metadata": {},
     "output_type": "execute_result"
    }
   ],
   "source": [
    "training.head()"
   ]
  },
  {
   "cell_type": "code",
   "execution_count": 12,
   "metadata": {
    "ExecuteTime": {
     "end_time": "2018-04-11T17:03:56.016249Z",
     "start_time": "2018-04-11T17:00:38.160443Z"
    },
    "colab": {
     "autoexec": {
      "startup": false,
      "wait_interval": 0
     }
    },
    "colab_type": "code",
    "id": "rIQX5C9w8uaB"
   },
   "outputs": [],
   "source": [
    "training['body_ngrams'] = training.apply(lambda x:[Ngram(word, x['body'], vocab) for word in x['body']], axis = 1)\n",
    "training['headline_ngrams'] = training.apply(lambda x:[Ngram(word, x['headline'], vocab) for word in x['body']], axis = 1)"
   ]
  },
  {
   "cell_type": "markdown",
   "metadata": {
    "ExecuteTime": {
     "end_time": "2018-04-11T00:50:27.820236Z",
     "start_time": "2018-04-11T00:50:27.793233Z"
    },
    "colab": {
     "autoexec": {
      "startup": false,
      "wait_interval": 0
     }
    },
    "colab_type": "code",
    "id": "bcfENedd_wpP"
   },
   "source": [
    "# Distances and Other features\n",
    "\n",
    "Using the vectorized headline/body pairs and the ngrams calculated using unigram laplace smoothing, we can start to find features that might help with out regression later. Here find Cosine, Manhattan, Jaccard and KL Divergence. These are also plotted below."
   ]
  },
  {
   "cell_type": "code",
   "execution_count": 13,
   "metadata": {
    "ExecuteTime": {
     "end_time": "2018-04-11T17:04:15.936660Z",
     "start_time": "2018-04-11T17:03:57.986695Z"
    },
    "colab": {
     "autoexec": {
      "startup": false,
      "wait_interval": 0
     }
    },
    "colab_type": "code",
    "id": "wZBYLQBdN4Sk"
   },
   "outputs": [
    {
     "name": "stderr",
     "output_type": "stream",
     "text": [
      "/home/ubuntu/Untitled Folder/functions.py:120: RuntimeWarning: invalid value encountered in double_scalars\n",
      "  return np.dot(vec1, vec2.T) / (np.linalg.norm(vec1) * np.linalg.norm(vec2))\n"
     ]
    }
   ],
   "source": [
    "training[\"cosine\"] = training.apply(lambda x:get_cosine(x['tfidf_headline'][0], x['tfidf_body'][0]), axis = 1)\n",
    "training[\"manhattan\"] = training.apply(lambda x:manhattan(x['tfidf_headline'][0], x['tfidf_body'][0]), axis = 1)\n",
    "training[\"jaccard\"] = training.apply(lambda x:jaccard_distance(x['tfidf_headline'][0], x['tfidf_body'][0]), axis = 1)\n",
    "training[\"KLD\"] = training.apply(lambda x:KLD(x['headline_ngrams'], x['body_ngrams']), axis = 1)\n"
   ]
  },
  {
   "cell_type": "code",
   "execution_count": 14,
   "metadata": {
    "ExecuteTime": {
     "end_time": "2018-04-11T17:04:18.635809Z",
     "start_time": "2018-04-11T17:04:18.019239Z"
    },
    "colab": {
     "autoexec": {
      "startup": false,
      "wait_interval": 0
     },
     "base_uri": "https://localhost:8080/",
     "height": 361
    },
    "colab_type": "code",
    "executionInfo": {
     "elapsed": 1473,
     "status": "ok",
     "timestamp": 1523143305800,
     "user": {
      "displayName": "Zobair Hasan",
      "photoUrl": "https://lh3.googleusercontent.com/a/default-user=s128",
      "userId": "108008922818994723796"
     },
     "user_tz": -60
    },
    "id": "R0l7JG7BRI-F",
    "outputId": "5603f41c-8f89-4c9a-8663-1b4d3d6b069b",
    "scrolled": false
   },
   "outputs": [
    {
     "data": {
      "image/png": "[encoded data removed]",
      "text/plain": [
       "<matplotlib.figure.Figure at 0x7f866500c4e0>"
      ]
     },
     "metadata": {},
     "output_type": "display_data"
    },
    {
     "data": {
      "image/png": "[encoded data removed]",
      "text/plain": [
       "<matplotlib.figure.Figure at 0x7f8664fae278>"
      ]
     },
     "metadata": {},
     "output_type": "display_data"
    },
    {
     "data": {
      "image/png": "[encoded data removed]",
      "text/plain": [
       "<matplotlib.figure.Figure at 0x7f8664e3e240>"
      ]
     },
     "metadata": {},
     "output_type": "display_data"
    },
    {
     "data": {
      "image/png": "[encoded data removed]",
      "text/plain": [
       "<matplotlib.figure.Figure at 0x7f8664d34cc0>"
      ]
     },
     "metadata": {},
     "output_type": "display_data"
    }
   ],
   "source": [
    "sns.boxplot(x=\"stance\", y=\"cosine\", data=training[['cosine','stance' ]])\n",
    "plt.show()\n",
    "sns.boxplot(x=\"stance\", y=\"KLD\", data=training[['KLD','stance' ]])\n",
    "plt.show()\n",
    "sns.boxplot(x=\"stance\", y=\"jaccard\", data=training[['jaccard','stance' ]])\n",
    "plt.show()\n",
    "sns.boxplot(x=\"stance\", y=\"manhattan\", data=training[['manhattan','stance' ]])\n",
    "plt.show()"
   ]
  },
  {
   "cell_type": "markdown",
   "metadata": {},
   "source": [
    "### Common Ngrams\n",
    "\n",
    "Inspired by Cisco-Talos, I have chosen to implement common Ngrams between the headline/body pair, these have proven to be very helpful for classifying the dataset. I have left out the plots of 4,5,6grams to try and leave the notebook uncluttered. "
   ]
  },
  {
   "cell_type": "code",
   "execution_count": 15,
   "metadata": {
    "ExecuteTime": {
     "end_time": "2018-04-11T17:04:47.357123Z",
     "start_time": "2018-04-11T17:04:20.617434Z"
    }
   },
   "outputs": [],
   "source": [
    "training[\"bigrams\"] = training.apply(lambda x:common_ngrams(x['body'], x['headline'], 2), axis = 1)\n",
    "training[\"trigrams\"] = training.apply(lambda x:common_ngrams(x['body'], x['headline'], 3), axis = 1)\n",
    "training[\"fourgrams\"] = training.apply(lambda x:common_ngrams(x['body'], x['headline'], 4), axis = 1)\n",
    "training[\"fivegrams\"] = training.apply(lambda x:common_ngrams(x['body'], x['headline'], 5), axis = 1)\n",
    "training[\"sixgrams\"] = training.apply(lambda x:common_ngrams(x['body'], x['headline'], 6), axis = 1)\n",
    "training[\"sevengrams\"] = training.apply(lambda x:common_ngrams(x['body'], x['headline'], 7), axis = 1)"
   ]
  },
  {
   "cell_type": "code",
   "execution_count": 16,
   "metadata": {
    "ExecuteTime": {
     "end_time": "2018-04-11T17:04:51.322449Z",
     "start_time": "2018-04-11T17:04:49.360580Z"
    },
    "scrolled": false
   },
   "outputs": [
    {
     "data": {
      "image/png": "[encoded data removed]",
      "text/plain": [
       "<matplotlib.figure.Figure at 0x7f8664c8d320>"
      ]
     },
     "metadata": {},
     "output_type": "display_data"
    },
    {
     "data": {
      "image/png": "[encoded data removed]",
      "text/plain": [
       "<matplotlib.figure.Figure at 0x7f8664e57cf8>"
      ]
     },
     "metadata": {},
     "output_type": "display_data"
    },
    {
     "data": {
      "image/png": "[encoded data removed]",
      "text/plain": [
       "<matplotlib.figure.Figure at 0x7f8664b5d3c8>"
      ]
     },
     "metadata": {},
     "output_type": "display_data"
    }
   ],
   "source": [
    "sns.stripplot(x=\"stance\", y=\"bigrams\", data=training[['bigrams','stance' ]], jitter=True, palette=\"pastel\");\n",
    "plt.show()\n",
    "sns.stripplot(x=\"stance\", y=\"trigrams\", data=training[['trigrams','stance' ]], jitter=True, palette=\"pastel\");\n",
    "plt.show()\n",
    "# sns.stripplot(x=\"stance\", y=\"fourgrams\", data=training[['fourgrams','stance' ]], jitter=True, palette=\"pastel\");\n",
    "# plt.show()\n",
    "# sns.stripplot(x=\"stance\", y=\"fivegrams\", data=training[['fivegrams','stance' ]], jitter=True, palette=\"pastel\");\n",
    "# plt.show()\n",
    "# sns.stripplot(x=\"stance\", y=\"sixgrams\", data=training[['sixgrams','stance' ]], jitter=True, palette=\"pastel\");\n",
    "# plt.show()\n",
    "sns.stripplot(x=\"stance\", y=\"sevengrams\", data=training[['sevengrams','stance' ]], jitter=True, palette=\"pastel\");\n",
    "plt.show()"
   ]
  },
  {
   "cell_type": "markdown",
   "metadata": {},
   "source": [
    "## Prepare the Validation Set\n",
    "\n",
    "So far we have prepared the training set for regression and our other classifiers. However, we wish to test our classifiers on a validation set, we now prepare the data so that we can use this validation set."
   ]
  },
  {
   "cell_type": "code",
   "execution_count": 17,
   "metadata": {
    "ExecuteTime": {
     "end_time": "2018-04-11T17:05:24.631880Z",
     "start_time": "2018-04-11T17:04:53.312170Z"
    }
   },
   "outputs": [
    {
     "name": "stderr",
     "output_type": "stream",
     "text": [
      "/home/ubuntu/Untitled Folder/functions.py:120: RuntimeWarning: invalid value encountered in double_scalars\n",
      "  return np.dot(vec1, vec2.T) / (np.linalg.norm(vec1) * np.linalg.norm(vec2))\n"
     ]
    }
   ],
   "source": [
    "validation['tfidf_headline'] =  TFIDF(validation['headline'] ,vocab).compute_tf_idf()\n",
    "validation['tfidf_body'] = TFIDF(validation['body'] ,vocab).compute_tf_idf()\n",
    "validation[\"bigrams\"] = validation.apply(lambda x:common_ngrams(x['body'], x['headline'], 2), axis = 1)\n",
    "validation[\"trigrams\"] = validation.apply(lambda x:common_ngrams(x['body'], x['headline'], 3), axis = 1)\n",
    "validation[\"fourgrams\"] = validation.apply(lambda x:common_ngrams(x['body'], x['headline'], 4), axis = 1)\n",
    "validation[\"fivegrams\"] = validation.apply(lambda x:common_ngrams(x['body'], x['headline'], 5), axis = 1)\n",
    "validation[\"sixgrams\"] = validation.apply(lambda x:common_ngrams(x['body'], x['headline'], 6), axis = 1)\n",
    "validation[\"sevengrams\"] = validation.apply(lambda x:common_ngrams(x['body'], x['headline'], 7), axis = 1)\n",
    "validation[\"cosine\"] = validation.apply(lambda x:get_cosine(x['tfidf_headline'][0], x['tfidf_body'][0]), axis = 1)\n",
    "validation[\"manhattan\"] = validation.apply(lambda x:manhattan(x['tfidf_headline'][0], x['tfidf_body'][0]), axis = 1)\n",
    "validation[\"jaccard\"] = validation.apply(lambda x:jaccard_distance(x['tfidf_headline'][0], x['tfidf_body'][0]), axis = 1)\n",
    "validation['body_ngrams'] = validation.apply(lambda x:[Ngram(word, x['body'], vocab) for word in x['body']], axis = 1)\n",
    "validation['headline_ngrams'] = validation.apply(lambda x:[Ngram(word, x['headline'], vocab) for word in x['body']], axis = 1)\n",
    "validation[\"KLD\"] = validation.apply(lambda x:KLD(x['headline_ngrams'], x['body_ngrams']), axis = 1)"
   ]
  },
  {
   "cell_type": "code",
   "execution_count": 18,
   "metadata": {
    "ExecuteTime": {
     "end_time": "2018-04-11T17:05:27.413003Z",
     "start_time": "2018-04-11T17:05:26.973664Z"
    },
    "colab": {
     "autoexec": {
      "startup": false,
      "wait_interval": 0
     },
     "base_uri": "https://localhost:8080/",
     "height": 51
    },
    "colab_type": "code",
    "executionInfo": {
     "elapsed": 499,
     "status": "ok",
     "timestamp": 1523149581876,
     "user": {
      "displayName": "Zobair Hasan",
      "photoUrl": "https://lh3.googleusercontent.com/a/default-user=s128",
      "userId": "108008922818994723796"
     },
     "user_tz": -60
    },
    "id": "R1dlHbo0TIBr",
    "outputId": "48ba2319-5b79-4cdb-ae8b-13a4c121a3af"
   },
   "outputs": [
    {
     "data": {
      "text/plain": [
       "((44974,), (44974, 6))"
      ]
     },
     "execution_count": 18,
     "metadata": {},
     "output_type": "execute_result"
    }
   ],
   "source": [
    "X = [training[\"jaccard\"].fillna(0),\n",
    "     training['cosine'].fillna(0), \n",
    "     training[\"bigrams\"].fillna(0),\n",
    "     training[\"trigrams\"].fillna(0), \n",
    "     training[\"fourgrams\"].fillna(0)]\n",
    "X = np.array(X)\n",
    "X = X.T\n",
    "\n",
    "bias = np.ones((np.shape(X)[0],1))\n",
    "\n",
    "X = np.hstack((bias, X))\n",
    "\n",
    "label_values = {'agree': 0, 'disagree': 1, 'discuss': 2, 'unrelated': 3}\n",
    "\n",
    "Y = [label_values[training[\"stance\"][i]] for i in range(len(training))]\n",
    "Y = np.array(Y)\n",
    "Y.shape, X.shape"
   ]
  },
  {
   "cell_type": "code",
   "execution_count": 19,
   "metadata": {
    "ExecuteTime": {
     "end_time": "2018-04-11T17:05:29.819559Z",
     "start_time": "2018-04-11T17:05:29.758425Z"
    }
   },
   "outputs": [
    {
     "data": {
      "text/plain": [
       "((4998,), (4998, 6))"
      ]
     },
     "execution_count": 19,
     "metadata": {},
     "output_type": "execute_result"
    }
   ],
   "source": [
    "valid_X = [validation[\"jaccard\"].fillna(0),\n",
    "           validation['cosine'].fillna(0), \n",
    "           validation[\"bigrams\"].fillna(0),\n",
    "           validation[\"trigrams\"].fillna(0), \n",
    "           validation[\"fourgrams\"].fillna(0)]\n",
    "valid_X = np.array(valid_X)\n",
    "valid_X = valid_X.T\n",
    "\n",
    "bias = np.ones((np.shape(valid_X)[0],1))\n",
    "\n",
    "valid_X = np.hstack((bias, valid_X))\n",
    "\n",
    "label_values = {'agree': 0, 'disagree': 1, 'discuss': 2, 'unrelated': 3}\n",
    "\n",
    "valid_Y = [label_values[validation[\"stance\"][i]] for i in range(len(validation))]\n",
    "valid_Y = np.array(valid_Y)\n",
    "valid_Y.shape, valid_X.shape"
   ]
  },
  {
   "cell_type": "markdown",
   "metadata": {},
   "source": [
    "# Regression\n",
    "\n",
    "Here we take all of our preprocessed data and use it to classify the data. The models implemented here are:\n",
    "\n",
    "* Linear Regression\n",
    "* Logistic Regression\n"
   ]
  },
  {
   "cell_type": "code",
   "execution_count": 20,
   "metadata": {
    "ExecuteTime": {
     "end_time": "2018-04-11T17:06:45.508943Z",
     "start_time": "2018-04-11T17:05:35.742528Z"
    },
    "colab": {
     "autoexec": {
      "startup": false,
      "wait_interval": 0
     },
     "base_uri": "https://localhost:8080/",
     "height": 1717
    },
    "colab_type": "code",
    "executionInfo": {
     "elapsed": 46179,
     "status": "ok",
     "timestamp": 1523149635141,
     "user": {
      "displayName": "Zobair Hasan",
      "photoUrl": "https://lh3.googleusercontent.com/a/default-user=s128",
      "userId": "108008922818994723796"
     },
     "user_tz": -60
    },
    "id": "3D6XDzHSayme",
    "outputId": "d65e78f4-b04f-4113-dee9-a35792600249",
    "scrolled": false
   },
   "outputs": [
    {
     "name": "stdout",
     "output_type": "stream",
     "text": [
      "Iteration: 0\n",
      "Loss: 160957.415657\n",
      "Iteration: 1\n",
      "Loss: 157622.127146\n"
     ]
    },
    {
     "ename": "KeyboardInterrupt",
     "evalue": "",
     "output_type": "error",
     "traceback": [
      "\u001b[0;31m---------------------------------------------------------------------------\u001b[0m",
      "\u001b[0;31mKeyboardInterrupt\u001b[0m                         Traceback (most recent call last)",
      "\u001b[0;32m<ipython-input-20-7acfa8d739a4>\u001b[0m in \u001b[0;36m<module>\u001b[0;34m()\u001b[0m\n\u001b[1;32m      1\u001b[0m \u001b[0mmodel\u001b[0m \u001b[0;34m=\u001b[0m \u001b[0mRegression\u001b[0m\u001b[0;34m(\u001b[0m\u001b[0;36m6\u001b[0m\u001b[0;34m,\u001b[0m \u001b[0;34m'linear'\u001b[0m\u001b[0;34m,\u001b[0m \u001b[0;36m0.01\u001b[0m\u001b[0;34m,\u001b[0m \u001b[0;36m100\u001b[0m\u001b[0;34m)\u001b[0m\u001b[0;34m\u001b[0m\u001b[0m\n\u001b[1;32m      2\u001b[0m \u001b[0;34m\u001b[0m\u001b[0m\n\u001b[0;32m----> 3\u001b[0;31m \u001b[0mmodel\u001b[0m\u001b[0;34m.\u001b[0m\u001b[0mtrain_model\u001b[0m\u001b[0;34m(\u001b[0m\u001b[0mX\u001b[0m\u001b[0;34m,\u001b[0m\u001b[0mY\u001b[0m\u001b[0;34m)\u001b[0m\u001b[0;34m\u001b[0m\u001b[0m\n\u001b[0m",
      "\u001b[0;32m~/Untitled Folder/functions.py\u001b[0m in \u001b[0;36mtrain_model\u001b[0;34m(self, X, Y)\u001b[0m\n\u001b[1;32m    168\u001b[0m         \u001b[0mold_loss\u001b[0m \u001b[0;34m=\u001b[0m \u001b[0;36m0\u001b[0m\u001b[0;34m\u001b[0m\u001b[0m\n\u001b[1;32m    169\u001b[0m         \u001b[0;32mfor\u001b[0m \u001b[0mi\u001b[0m \u001b[0;32min\u001b[0m \u001b[0mrange\u001b[0m\u001b[0;34m(\u001b[0m\u001b[0mself\u001b[0m\u001b[0;34m.\u001b[0m\u001b[0m_iterations\u001b[0m\u001b[0;34m)\u001b[0m\u001b[0;34m:\u001b[0m\u001b[0;34m\u001b[0m\u001b[0m\n\u001b[0;32m--> 170\u001b[0;31m             \u001b[0mself\u001b[0m\u001b[0;34m.\u001b[0m\u001b[0mgradient_descent\u001b[0m\u001b[0;34m(\u001b[0m\u001b[0mX\u001b[0m\u001b[0;34m,\u001b[0m \u001b[0mY\u001b[0m\u001b[0;34m)\u001b[0m\u001b[0;34m\u001b[0m\u001b[0m\n\u001b[0m\u001b[1;32m    171\u001b[0m             \u001b[0mloss\u001b[0m \u001b[0;34m=\u001b[0m \u001b[0mself\u001b[0m\u001b[0;34m.\u001b[0m\u001b[0mcalculate_loss\u001b[0m\u001b[0;34m(\u001b[0m\u001b[0mX\u001b[0m\u001b[0;34m,\u001b[0m \u001b[0mY\u001b[0m\u001b[0;34m)\u001b[0m\u001b[0;34m\u001b[0m\u001b[0m\n\u001b[1;32m    172\u001b[0m             \u001b[0mprint\u001b[0m\u001b[0;34m(\u001b[0m\u001b[0;34m'Iteration: '\u001b[0m \u001b[0;34m+\u001b[0m \u001b[0mstr\u001b[0m\u001b[0;34m(\u001b[0m\u001b[0mi\u001b[0m\u001b[0;34m)\u001b[0m\u001b[0;34m)\u001b[0m\u001b[0;34m\u001b[0m\u001b[0m\n",
      "\u001b[0;32m~/Untitled Folder/functions.py\u001b[0m in \u001b[0;36mgradient_descent\u001b[0;34m(self, X, Y)\u001b[0m\n\u001b[1;32m    161\u001b[0m \u001b[0;34m\u001b[0m\u001b[0m\n\u001b[1;32m    162\u001b[0m     \u001b[0;32mdef\u001b[0m \u001b[0mgradient_descent\u001b[0m\u001b[0;34m(\u001b[0m\u001b[0mself\u001b[0m\u001b[0;34m,\u001b[0m \u001b[0mX\u001b[0m\u001b[0;34m,\u001b[0m \u001b[0mY\u001b[0m\u001b[0;34m)\u001b[0m\u001b[0;34m:\u001b[0m\u001b[0;34m\u001b[0m\u001b[0m\n\u001b[0;32m--> 163\u001b[0;31m         \u001b[0merror\u001b[0m \u001b[0;34m=\u001b[0m \u001b[0mself\u001b[0m\u001b[0;34m.\u001b[0m\u001b[0mpredict\u001b[0m\u001b[0;34m(\u001b[0m\u001b[0mX\u001b[0m\u001b[0;34m)\u001b[0m \u001b[0;34m-\u001b[0m \u001b[0mY\u001b[0m\u001b[0;34m\u001b[0m\u001b[0m\n\u001b[0m\u001b[1;32m    164\u001b[0m         \u001b[0mgradient\u001b[0m \u001b[0;34m=\u001b[0m \u001b[0mnp\u001b[0m\u001b[0;34m.\u001b[0m\u001b[0mdot\u001b[0m\u001b[0;34m(\u001b[0m\u001b[0mX\u001b[0m\u001b[0;34m.\u001b[0m\u001b[0mT\u001b[0m\u001b[0;34m,\u001b[0m \u001b[0merror\u001b[0m\u001b[0;34m)\u001b[0m \u001b[0;34m/\u001b[0m \u001b[0mnp\u001b[0m\u001b[0;34m.\u001b[0m\u001b[0mshape\u001b[0m\u001b[0;34m(\u001b[0m\u001b[0mX\u001b[0m\u001b[0;34m)\u001b[0m\u001b[0;34m[\u001b[0m\u001b[0;36m0\u001b[0m\u001b[0;34m]\u001b[0m\u001b[0;34m\u001b[0m\u001b[0m\n\u001b[1;32m    165\u001b[0m         \u001b[0mself\u001b[0m\u001b[0;34m.\u001b[0m\u001b[0m_weights\u001b[0m \u001b[0;34m=\u001b[0m \u001b[0mself\u001b[0m\u001b[0;34m.\u001b[0m\u001b[0m_weights\u001b[0m \u001b[0;34m-\u001b[0m \u001b[0mself\u001b[0m\u001b[0;34m.\u001b[0m\u001b[0m_learning_rate\u001b[0m \u001b[0;34m*\u001b[0m \u001b[0mgradient\u001b[0m\u001b[0;34m\u001b[0m\u001b[0m\n",
      "\u001b[0;31mKeyboardInterrupt\u001b[0m: "
     ]
    }
   ],
   "source": [
    "model = Regression(6, 'linear', 0.01, 100)\n",
    "\n",
    "model.train_model(X,Y)"
   ]
  },
  {
   "cell_type": "code",
   "execution_count": null,
   "metadata": {
    "ExecuteTime": {
     "end_time": "2018-04-11T12:10:59.964400Z",
     "start_time": "2018-04-11T12:10:59.470731Z"
    },
    "colab": {
     "autoexec": {
      "startup": false,
      "wait_interval": 0
     }
    },
    "colab_type": "code",
    "id": "xb53Wwlmhev-"
   },
   "outputs": [],
   "source": [
    "predictions = model.predict(valid_X)\n",
    "predictions = predictions[:,0]\n",
    "correct_pred = np.equal(np.round(predictions), valid_Y)\n",
    "accuracy = np.mean(correct_pred)\n",
    "\n",
    "print(accuracy)"
   ]
  },
  {
   "cell_type": "code",
   "execution_count": null,
   "metadata": {
    "ExecuteTime": {
     "end_time": "2018-04-11T14:32:46.356515Z",
     "start_time": "2018-04-11T14:32:30.341365Z"
    },
    "scrolled": true
   },
   "outputs": [],
   "source": [
    "class0, class1, class2, class3 = 1 * (Y == 0), 1 * (Y == 1), 1 * (Y == 2), 1 * (Y == 3)\n",
    "model1 = Regression(6, \"logistic\", 0.01, 20)\n",
    "model1.train_model(X, class0)\n",
    "model2 = Regression(6, \"logistic\", 0.01, 20)\n",
    "model2.train_model(X, class1)\n",
    "model3 = Regression(6, \"logistic\", 0.01, 20)\n",
    "model3.train_model(X, class2)\n",
    "model4 = Regression(6, \"logistic\", 0.01, 20)\n",
    "model4.train_model(X, class3)"
   ]
  },
  {
   "cell_type": "code",
   "execution_count": null,
   "metadata": {
    "ExecuteTime": {
     "end_time": "2018-04-11T14:26:42.620692Z",
     "start_time": "2018-04-11T14:26:24.953611Z"
    }
   },
   "outputs": [],
   "source": [
    "v_class1, v_class2, v_class3, v_class4 =1*(valid_Y == 0),1*(valid_Y == 1),1*(valid_Y == 2),1*(valid_Y == 3)\n",
    "predictions1 = model1.predict(valid_X)\n",
    "predictions1 = predictions1[:,0]\n",
    "correct_pred = np.equal(np.round(predictions1), v_class1)\n",
    "accuracy = np.mean(correct_pred)\n",
    "print(accuracy)\n",
    "predictions2 = model2.predict(valid_X)\n",
    "predictions2 = predictions2[:,0]\n",
    "correct_pred = np.equal(np.round(predictions2), v_class2)\n",
    "accuracy = np.mean(correct_pred)\n",
    "print(accuracy)\n",
    "predictions3 = model3.predict(valid_X)\n",
    "predictions3 = predictions1[:,0]\n",
    "correct_pred = np.equal(np.round(predictions3), v_class3)\n",
    "accuracy = np.mean(correct_pred)\n",
    "print(accuracy)\n",
    "predictions4 = model4.predict(valid_X)\n",
    "predictions4 = predictions4[:,0]\n",
    "correct_pred = np.equal(np.round(predictions4), v_class4)\n",
    "accuracy = np.mean(correct_pred)\n",
    "print(accuracy)"
   ]
  },
  {
   "cell_type": "code",
   "execution_count": null,
   "metadata": {
    "ExecuteTime": {
     "end_time": "2018-04-11T14:35:55.744481Z",
     "start_time": "2018-04-11T14:35:55.733522Z"
    }
   },
   "outputs": [],
   "source": [
    "prob_matrix = np.concatenate((predictions1, predictions2, predictions3, predictions4), axis=1)\n",
    "final_classification = np.reshape(np.asarray(np.argmax(prob_matrix, axis=1)), (len(np.argmax(prob_matrix, axis=1))), axis=1)"
   ]
  },
  {
   "cell_type": "code",
   "execution_count": null,
   "metadata": {},
   "outputs": [],
   "source": [
    "f_score(final_classification, valid_Y)"
   ]
  },
  {
   "cell_type": "markdown",
   "metadata": {},
   "source": [
    "# Further Models\n",
    "\n",
    "* Neural Networks\n",
    "* LightGBM Gradient Boosted Trees"
   ]
  },
  {
   "cell_type": "code",
   "execution_count": 22,
   "metadata": {
    "ExecuteTime": {
     "end_time": "2018-04-11T17:07:09.172142Z",
     "start_time": "2018-04-11T17:07:06.470429Z"
    }
   },
   "outputs": [],
   "source": [
    "tfidf_body = np.array([xi for xi in training['tfidf_body'].get_values()])[:,0,:]\n",
    "tfidf_headline = np.array([xi for xi in training['tfidf_headline'].get_values()])[:,0,:]\n",
    "\n",
    "tfidf = np.hstack((tfidf_body,tfidf_headline))\n",
    "\n",
    "deep_model_X = np.hstack((tfidf, X))\n",
    "\n",
    "v_tfidf_body = np.array([xi for xi in validation['tfidf_body'].get_values()])[:,0,:]\n",
    "v_tfidf_headline = np.array([xi for xi in validation['tfidf_headline'].get_values()])[:,0,:]\n",
    "\n",
    "v_tfidf = np.hstack((v_tfidf_body,v_tfidf_headline))\n",
    "\n",
    "v_deep_model_X = np.hstack((v_tfidf, valid_X))"
   ]
  },
  {
   "cell_type": "code",
   "execution_count": null,
   "metadata": {
    "ExecuteTime": {
     "end_time": "2018-04-11T17:10:11.935471Z",
     "start_time": "2018-04-11T17:08:54.288051Z"
    }
   },
   "outputs": [],
   "source": [
    "input_dimensions = deep_model_X.shape[1]\n",
    "num_classes = 4\n",
    "\n",
    "model = Sequential()\n",
    "model.add(Dense(128, activation='relu', input_shape=(input_dimensions,)))\n",
    "model.add(Dropout(0.3))\n",
    "model.add(Dense(64, activation='relu'))\n",
    "model.add(Dropout(0.3))\n",
    "model.add(Dense(num_classes, activation='softmax'))\n",
    "\n",
    "model.compile(optimizer=Adam(),\n",
    "              loss='categorical_crossentropy',\n",
    "              metrics=['accuracy'])\n",
    "one_hot_Y = keras.utils.to_categorical(Y, num_classes=4)\n",
    "v_one_hot_Y = keras.utils.to_categorical(valid_Y, num_classes=4)\n",
    "\n",
    "\n",
    "model.fit(deep_model_X, one_hot_Y, epochs=10, batch_size=64)\n",
    "\n",
    "preds = model.predict(v_deep_model_X)"
   ]
  },
  {
   "cell_type": "code",
   "execution_count": null,
   "metadata": {
    "ExecuteTime": {
     "end_time": "2018-04-11T17:21:19.482905Z",
     "start_time": "2018-04-11T17:21:19.476166Z"
    }
   },
   "outputs": [],
   "source": [
    "argmaxes = np.argmax(preds, axis = 1)\n",
    "from sklearn.metrics import f1_score\n",
    "f_score(valid_Y,argmaxes), f1_score(valid_Y, argmaxes, average = \"macro\")"
   ]
  },
  {
   "cell_type": "code",
   "execution_count": null,
   "metadata": {
    "ExecuteTime": {
     "end_time": "2018-04-11T13:27:01.606683Z",
     "start_time": "2018-04-11T11:53:04.487Z"
    }
   },
   "outputs": [],
   "source": [
    "# def optimise(params):\n",
    "#     params = {\n",
    "#         'num_leaves': int(params['num_leaves']),\n",
    "#         'colsample_bytree': '{:.3f}'.format(params['colsample_bytree']),\n",
    "#     }\n",
    "    \n",
    "#     clf = lightgbm.LGBMClassifier(\n",
    "#         n_estimators=1000,\n",
    "#         learning_rate=0.01,\n",
    "#         **params\n",
    "#     )\n",
    "    \n",
    "#     score = cross_val_score(clf, X, Y, scoring=gini_scorer, cv=StratifiedKFold()).mean()\n",
    "#     return score\n",
    "\n",
    "# space = {\n",
    "#     'num_leaves': hp.quniform('num_leaves', 8, 128, 2),\n",
    "#     'colsample_bytree': hp.uniform('colsample_bytree', 0.3, 1.0),\n",
    "# }\n",
    "\n",
    "# best = fmin(fn=optimise,\n",
    "#             space=space,\n",
    "#             algo=tpe.suggest,\n",
    "#             max_evals=10)"
   ]
  },
  {
   "cell_type": "markdown",
   "metadata": {},
   "source": [
    "## Feature Importance\n",
    "\n",
    "Using LightGBM we can view the feature importance to the LGBM classifier, while this is not a comprehensive list of importance as the importance depends on the model, it is a good overview of where the features effect the outcome of the classification. The second and third values are Jaccard and Cosine Distance, these have the biggest effect on the outcome of the classifier, with bigrams just behind. We keep the bias in the X value for ease, but can see it has no effect on the outcome of the model."
   ]
  },
  {
   "cell_type": "code",
   "execution_count": null,
   "metadata": {
    "ExecuteTime": {
     "start_time": "2018-04-11T14:55:44.024Z"
    }
   },
   "outputs": [
    {
     "data": {
      "text/plain": [
       "(0.85514205682272915, array([    0, 30730, 30974,  7540,  4412,  2428]))"
      ]
     },
     "execution_count": 122,
     "metadata": {},
     "output_type": "execute_result"
    }
   ],
   "source": [
    "gbm = lightgbm.LGBMClassifier(max_depth=5, \n",
    "                            n_estimators=1000, \n",
    "                            learning_rate=0.01, \n",
    "                            colsample_bytree = 0.5, \n",
    "                            num_leaves = 128).fit(X, Y)\n",
    "\n",
    "features = gbm.feature_importances_\n",
    "gbm.score(valid_X, valid_Y), features"
   ]
  }
 ],
 "metadata": {
  "colab": {
   "default_view": {},
   "name": "IRDM_Code.ipynb",
   "provenance": [],
   "version": "0.3.2",
   "views": {}
  },
  "kernelspec": {
   "display_name": "Python 3",
   "language": "python",
   "name": "python3"
  },
  "language_info": {
   "codemirror_mode": {
    "name": "ipython",
    "version": 3
   },
   "file_extension": ".py",
   "mimetype": "text/x-python",
   "name": "python",
   "nbconvert_exporter": "python",
   "pygments_lexer": "ipython3",
   "version": "3.6.5"
  },
  "varInspector": {
   "cols": {
    "lenName": 16,
    "lenType": 16,
    "lenVar": 40
   },
   "kernels_config": {
    "python": {
     "delete_cmd_postfix": "",
     "delete_cmd_prefix": "del ",
     "library": "var_list.py",
     "varRefreshCmd": "print(var_dic_list())"
    },
    "r": {
     "delete_cmd_postfix": ") ",
     "delete_cmd_prefix": "rm(",
     "library": "var_list.r",
     "varRefreshCmd": "cat(var_dic_list()) "
    }
   },
   "oldHeight": 360,
   "position": {
    "height": "40px",
    "left": "1200px",
    "right": "20px",
    "top": "13px",
    "width": "684px"
   },
   "types_to_exclude": [
    "module",
    "function",
    "builtin_function_or_method",
    "instance",
    "_Feature"
   ],
   "varInspector_section_display": "none",
   "window_display": true
  }
 },
 "nbformat": 4,
 "nbformat_minor": 1
}
